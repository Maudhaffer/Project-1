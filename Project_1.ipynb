{
  "nbformat": 4,
  "nbformat_minor": 0,
  "metadata": {
    "colab": {
      "provenance": [],
      "authorship_tag": "ABX9TyMCyOPtApdCIpOF2kMmITaJ",
      "include_colab_link": true
    },
    "kernelspec": {
      "name": "python3",
      "display_name": "Python 3"
    },
    "language_info": {
      "name": "python"
    }
  },
  "cells": [
    {
      "cell_type": "markdown",
      "metadata": {
        "id": "view-in-github",
        "colab_type": "text"
      },
      "source": [
        "<a href=\"https://colab.research.google.com/github/Maudhaffer/Project-1/blob/main/Project_1.ipynb\" target=\"_parent\"><img src=\"https://colab.research.google.com/assets/colab-badge.svg\" alt=\"Open In Colab\"/></a>"
      ]
    },
    {
      "cell_type": "markdown",
      "source": [
        "# Project Title: Project 1\n",
        "###- Author: Maudhaffer Ben othmen"
      ],
      "metadata": {
        "id": "yRw1DOWw3mK9"
      }
    },
    {
      "cell_type": "markdown",
      "source": [
        "## Project Overview"
      ],
      "metadata": {
        "id": "e99ev1pF37EV"
      }
    },
    {
      "cell_type": "markdown",
      "source": [
        "## Load and Inspect Data\n"
      ],
      "metadata": {
        "id": "E_bA1rHB4sKo"
      }
    },
    {
      "cell_type": "code",
      "source": [],
      "metadata": {
        "id": "giBYzrMy4_ii"
      },
      "execution_count": null,
      "outputs": []
    },
    {
      "cell_type": "markdown",
      "source": [
        "## Clean Data\n"
      ],
      "metadata": {
        "id": "jzFi-uwL4sn1"
      }
    },
    {
      "cell_type": "code",
      "source": [],
      "metadata": {
        "id": "Rwm1yNBY5ACY"
      },
      "execution_count": null,
      "outputs": []
    },
    {
      "cell_type": "markdown",
      "source": [
        "## Exploratory Data Analysis\n"
      ],
      "metadata": {
        "id": "o_x_c8KS4s5y"
      }
    },
    {
      "cell_type": "code",
      "source": [],
      "metadata": {
        "id": "SdZ-vPII5Abx"
      },
      "execution_count": null,
      "outputs": []
    },
    {
      "cell_type": "markdown",
      "source": [
        "## Feature Inspection\n"
      ],
      "metadata": {
        "id": "4sEdPkaX4099"
      }
    },
    {
      "cell_type": "code",
      "source": [],
      "metadata": {
        "id": "t_rFqg8g5A70"
      },
      "execution_count": null,
      "outputs": []
    }
  ]
}